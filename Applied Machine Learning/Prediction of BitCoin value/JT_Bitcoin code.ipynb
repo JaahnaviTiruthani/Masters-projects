{
 "cells": [
  {
   "cell_type": "markdown",
   "metadata": {},
   "source": [
    "### Project 1\n",
    "\n",
    "Project description: \n",
    "- Read data into Jupyter notebook, use pandas to import data into a data frame\n",
    "- preprocess data: explore data, address missing data, categorical data, if there is any, and data scaling. Justify the type of scaling used in this project. \n",
    "- train your dataset using all the linear regression models you've learned so far. If your model has a scaling parameter(s) use Grid Search to find the best scaling parameter. Use plots and graphs to help you get a better glimpse of the results. \n",
    "- Then use cross validation to find average training and testing score. \n",
    "- Your submission should have at least the following regression models: KNN repressor, linear regression, Ridge, Lasso, polynomial regression, SVM both simple and with kernels. \n",
    "- Finally find the best repressor for this dataset and train your model on the entire dataset using the best parameters and predict the market price for the test_set.\n",
    "- submit IPython notebook. Use markdown to provide an inline report for this project."
   ]
  },
  {
   "cell_type": "markdown",
   "metadata": {},
   "source": [
    "##### <font color = 'red'> Important note: All the group members should participate in completing this project.  This includes coding, preparing report and testing the models. "
   ]
  },
  {
   "cell_type": "markdown",
   "metadata": {},
   "source": [
    "# Importing Packages"
   ]
  },
  {
   "cell_type": "code",
   "execution_count": null,
   "metadata": {},
   "outputs": [],
   "source": [
    "import pandas as pd\n",
    "import numpy as np\n",
    "from datetime import datetime\n",
    "\n",
    "\n",
    "from sklearn.model_selection import train_test_split\n",
    "from sklearn.linear_model import LinearRegression\n",
    "from sklearn.neighbors import KNeighborsRegressor\n",
    "from sklearn.linear_model import Ridge\n",
    "from sklearn.linear_model import RidgeCV\n",
    "from sklearn.linear_model import Lasso\n",
    "from sklearn.linear_model import LassoCV\n",
    "from sklearn.preprocessing import PolynomialFeatures\n",
    "from sklearn.svm import SVR\n",
    "from sklearn.preprocessing import MinMaxScaler\n",
    "from sklearn.model_selection import cross_val_score\n",
    "from sklearn.model_selection import GridSearchCV"
   ]
  },
  {
   "cell_type": "markdown",
   "metadata": {},
   "source": [
    "# Loading Data"
   ]
  },
  {
   "cell_type": "code",
   "execution_count": null,
   "metadata": {},
   "outputs": [],
   "source": [
    "#Loading Dataset for Building the Model\n",
    "data = pd.read_csv('bitcoin_dataset.csv')\n",
    "#Loading the Testing Dataset for Prediction\n",
    "test = pd.read_csv('test_set.csv')\n",
    "data.head()"
   ]
  },
  {
   "cell_type": "markdown",
   "metadata": {},
   "source": [
    "# Modifying Date Format and Drop Null Values"
   ]
  },
  {
   "cell_type": "code",
   "execution_count": null,
   "metadata": {},
   "outputs": [],
   "source": [
    "#Changing Date from String formaat to Date format\n",
    "thelist=[(datetime.strptime(data['Date'][i][0:-5], '%m/%d/%Y')) for i in data.index]\n",
    "df = pd.Series( (v for v in thelist) )\n",
    "data[\"Date\"]=df\n",
    "#Dropping the Null Values\n",
    "data=data.dropna()"
   ]
  },
  {
   "cell_type": "markdown",
   "metadata": {},
   "source": [
    "# Variation of Bit Coin Price with Time"
   ]
  },
  {
   "cell_type": "code",
   "execution_count": null,
   "metadata": {},
   "outputs": [],
   "source": [
    "plt.plot(data['Date'],data['btc_market_price'])\n",
    "plt.xlabel(\"Date\")\n",
    "plt.ylabel(\"Price\")\n",
    "plt.title(\"Variation of Bitcoin\")\n",
    "plt.show()"
   ]
  },
  {
   "cell_type": "markdown",
   "metadata": {},
   "source": [
    "# Correlation between Variables"
   ]
  },
  {
   "cell_type": "code",
   "execution_count": null,
   "metadata": {},
   "outputs": [],
   "source": [
    "data.corr()"
   ]
  },
  {
   "cell_type": "markdown",
   "metadata": {},
   "source": [
    "# Removing the Independent Variables with High Correlation"
   ]
  },
  {
   "cell_type": "code",
   "execution_count": null,
   "metadata": {},
   "outputs": [],
   "source": [
    "#Important columns for Regression\n",
    "column=['btc_total_bitcoins', 'btc_market_cap','btc_n_orphaned_blocks','btc_median_confirmation_time',\n",
    "       'btc_cost_per_transaction','btc_output_volume', 'btc_estimated_transaction_volume']\n",
    "# Filtered Data for Training the model\n",
    "Xdata=data[column]\n",
    "# Filtered Dataset for Testing the model\n",
    "Tdata=test[column]\n",
    "# Target Variable\n",
    "Ydata=data['btc_market_price']"
   ]
  },
  {
   "cell_type": "markdown",
   "metadata": {},
   "source": [
    "### Variation of Dependent Variable with the change in Independent Variables"
   ]
  },
  {
   "cell_type": "code",
   "execution_count": null,
   "metadata": {},
   "outputs": [],
   "source": [
    "for i in column:\n",
    "    plt.plot(data[i],data['btc_market_price'])\n",
    "    plt.xlabel(i)\n",
    "    plt.ylabel(\"Price\")\n",
    "    plt.title(\"Variation of Bitcoin\")\n",
    "    plt.show()"
   ]
  },
  {
   "cell_type": "markdown",
   "metadata": {},
   "source": [
    "# Splitting Data for Training and Testing 75/25"
   ]
  },
  {
   "cell_type": "code",
   "execution_count": null,
   "metadata": {},
   "outputs": [],
   "source": [
    "x_train, x_test, y_train, y_test = train_test_split(Xdata,Ydata,random_state=111)\n",
    "print(\"Shape of Training data\\n\", \"Indepenedent Variables : \",x_train.shape,\"Dependent Variables : \",y_train.shape)\n",
    "print(\"Shape of Testing data\\n\", \"Indepenedent Variables : \",x_test.shape,\" Dependent Variables : \",y_test.shape)"
   ]
  },
  {
   "cell_type": "markdown",
   "metadata": {},
   "source": [
    "# Scaling Data"
   ]
  },
  {
   "cell_type": "code",
   "execution_count": null,
   "metadata": {},
   "outputs": [],
   "source": [
    "scaler=MinMaxScaler().fit(Xdata)\n",
    "# Scaling the Data for Training the model\n",
    "x_scaled=scaler.fit_transform(Xdata)\n",
    "# Scaling the Testing Data to fit for prediction\n",
    "t_scaled=scaler.transform(Tdata)\n",
    "# Splitting the Scaled Data \n",
    "x_train_scaled, x_test_scaled, y_train_scaled, y_test_scaled = train_test_split(x_scaled,Ydata,random_state=111)\n",
    "print(\"Shape of Training data\\n\", \"Indepenedent Variables : \",x_train_scaled.shape,\"Dependent Variables : \",y_train_scaled.shape)\n",
    "print(\"Shape of Testing data\\n\", \"Indepenedent Variables : \",x_test_scaled.shape,\" Dependent Variables : \",y_test_scaled.shape)"
   ]
  },
  {
   "cell_type": "markdown",
   "metadata": {},
   "source": [
    "# KNN Regressor"
   ]
  },
  {
   "cell_type": "markdown",
   "metadata": {},
   "source": [
    "KNN Regression on Unscaled Data"
   ]
  },
  {
   "cell_type": "code",
   "execution_count": null,
   "metadata": {},
   "outputs": [],
   "source": [
    "# Defining the KNN Regressor\n",
    "knnreg=KNeighborsRegressor()\n",
    "# Defining the number of neighbors for the model\n",
    "k_value={'n_neighbors':range(1,100)}\n",
    "# Defining the GridSearchCV for best accuracy using the different values of n\n",
    "grid=GridSearchCV(knnreg,param_grid=k_value)\n",
    "# Fitting the model\n",
    "grid.fit(x_train,y_train)\n",
    "print(\"The best training score is : \",'%.4f' %grid.score(x_train,y_train))\n",
    "print(\"The best test score is : \",'%.4f' %grid.score(x_test,y_test))\n",
    "# Printing the Best parmeters and Best estimator\n",
    "print(grid.best_params_)\n",
    "print(grid.best_estimator_)"
   ]
  },
  {
   "cell_type": "code",
   "execution_count": null,
   "metadata": {},
   "outputs": [],
   "source": [
    "print(\"Mean Cross Validation Score of KNN on Unscaled Data :\", \n",
    "      '%.4f' %cross_val_score(KNeighborsRegressor(n_neighbors=2), x_train, y_train, cv = 10).mean())"
   ]
  },
  {
   "cell_type": "markdown",
   "metadata": {},
   "source": [
    "KNN Regression on Scaled Data"
   ]
  },
  {
   "cell_type": "code",
   "execution_count": null,
   "metadata": {},
   "outputs": [],
   "source": [
    "knnreg=KNeighborsRegressor()\n",
    "# Defining the range of K values\n",
    "k_value={'n_neighbors':range(1,100)}\n",
    "gridscaled=GridSearchCV(knnreg,param_grid=k_value)\n",
    "gridscaled.fit(x_train_scaled,y_train_scaled)\n",
    "print(\"The training score is : \",'%.4f' %gridscaled.score(x_train_scaled,y_train_scaled))\n",
    "print(\"The test score is : \",'%.4f' %gridscaled.score(x_test_scaled,y_test_scaled),\" with \", gridscaled.best_params_)\n",
    "# Printing the Best parmeters and Best estimator\n",
    "print(gridscaled.best_params_)\n",
    "print(gridscaled.best_estimator_)"
   ]
  },
  {
   "cell_type": "code",
   "execution_count": null,
   "metadata": {},
   "outputs": [],
   "source": [
    "print(\"Mean Cross Validation Score of KNN on Scaled Data :\", \n",
    "      '%.4f' %cross_val_score(KNeighborsRegressor(n_neighbors=3), x_train_scaled, y_train_scaled, cv = 10).mean())"
   ]
  },
  {
   "cell_type": "markdown",
   "metadata": {},
   "source": [
    "# Linear Regression"
   ]
  },
  {
   "cell_type": "markdown",
   "metadata": {},
   "source": [
    "Linear Regression on Unscaled Data"
   ]
  },
  {
   "cell_type": "code",
   "execution_count": null,
   "metadata": {},
   "outputs": [],
   "source": [
    "# Defining the Linear Regressor and Fitting the model on unscaled data\n",
    "linreg=LinearRegression().fit(x_train,y_train)\n",
    "print(\"The best training score is : \",'%.4f' %linreg.score(x_train,y_train))\n",
    "print(\"The best test score is : \",'%.4f' %linreg.score(x_test,y_test))"
   ]
  },
  {
   "cell_type": "code",
   "execution_count": null,
   "metadata": {},
   "outputs": [],
   "source": [
    "print(\"Mean Cross Validation Score of Linear Regression on Unscaled Data :\", \n",
    "      '%.4f' %cross_val_score(LinearRegression(), x_train, y_train, cv = 10).mean())"
   ]
  },
  {
   "cell_type": "markdown",
   "metadata": {},
   "source": [
    "Linear Regression on Scaled Data"
   ]
  },
  {
   "cell_type": "code",
   "execution_count": null,
   "metadata": {},
   "outputs": [],
   "source": [
    "# Defining the Linear Regressor and Fitting the model on scaled data\n",
    "linregscaled=LinearRegression().fit(x_train_scaled,y_train_scaled)\n",
    "print(\"The best training score is : \",'%.4f' %linregscaled.score(x_train_scaled,y_train_scaled))\n",
    "print(\"The best test score is : \",'%.4f' %linregscaled.score(x_test_scaled,y_test_scaled))"
   ]
  },
  {
   "cell_type": "code",
   "execution_count": null,
   "metadata": {},
   "outputs": [],
   "source": [
    "print(\"Mean Cross Validation Score of Linear Regression on Scaled Data :\", \n",
    "      '%.4f' %cross_val_score(LinearRegression(), x_train_scaled, y_train_scaled, cv = 10).mean())"
   ]
  },
  {
   "cell_type": "markdown",
   "metadata": {},
   "source": [
    "# Ridge Regression"
   ]
  },
  {
   "cell_type": "markdown",
   "metadata": {},
   "source": [
    "Ridge Regression on Unscaled Data"
   ]
  },
  {
   "cell_type": "code",
   "execution_count": null,
   "metadata": {},
   "outputs": [],
   "source": [
    "# Defining the Ridge Regressor\n",
    "linridge=Ridge()\n",
    "alpha={'alpha':[0.1,1,5,10,15,20,25]}\n",
    "gridridge=GridSearchCV(linridge,param_grid=alpha)\n",
    "# Fitting the model on Unscaled data\n",
    "gridridge.fit(x_train,y_train)\n",
    "print(\"The training score is : \",'%.4f' %gridridge.score(x_train,y_train))\n",
    "print(\"The test score is : \",'%.4f' %gridridge.score(x_test,y_test),\" with \", gridridge.best_params_)\n",
    "# Printing the Best parmeters and Best estimator\n",
    "print(gridridge.best_params_)\n",
    "print(gridridge.best_estimator_)"
   ]
  },
  {
   "cell_type": "code",
   "execution_count": null,
   "metadata": {},
   "outputs": [],
   "source": [
    "print(\"Mean Cross Validation Score of Ridge Regression on Unscaled Data :\", \n",
    "      '%.4f' %cross_val_score(Ridge(alpha=25), x_train, y_train, cv = 10).mean())"
   ]
  },
  {
   "cell_type": "code",
   "execution_count": null,
   "metadata": {},
   "outputs": [],
   "source": [
    "# Defining the RidgeCv\n",
    "linridge=RidgeCV()\n",
    "# Fitting the model \n",
    "linridge.fit(x_train,y_train)\n",
    "print(\"The training score is : \",'%.4f' %linridge.score(x_train,y_train))\n",
    "print(\"The test score is : \",'%.4f' %linridge.score(x_test,y_test))\n",
    "# Intercepts and Coefficients in the regression\n",
    "print(linridge.intercept_,linridge.coef_)\n",
    "print(\"Number of non zero Coef : \",np.sum(linridge.coef_ != 0))\n",
    "print(\"Number of Important Coef : \",np.sum(abs(linridge.coef_) > 1))"
   ]
  },
  {
   "cell_type": "markdown",
   "metadata": {},
   "source": [
    "Ridge Regression on Scaled Data"
   ]
  },
  {
   "cell_type": "code",
   "execution_count": null,
   "metadata": {},
   "outputs": [],
   "source": [
    "linridgescaled=Ridge()\n",
    "alpha={'alpha':[0.1,1,5,10,15,20,25]}\n",
    "gridridgescaled=GridSearchCV(linridgescaled,param_grid=alpha)\n",
    "# Fitting the model\n",
    "gridridgescaled.fit(x_train_scaled,y_train_scaled)\n",
    "print(\"The training score is : \",'%.4f' %gridridgescaled.score(x_train_scaled,y_train_scaled))\n",
    "print(\"The test score is : \",'%.4f' %gridridgescaled.score(x_test_scaled,y_test_scaled),\" with \", gridridgescaled.best_params_)\n",
    "# Printing the Best parmeters and Best estimator\n",
    "print(gridridgescaled.best_params_)\n",
    "print(gridridgescaled.best_estimator_)"
   ]
  },
  {
   "cell_type": "code",
   "execution_count": null,
   "metadata": {},
   "outputs": [],
   "source": [
    "print(\"Mean Cross Validation Score of Ridge Regression on Scaled Data :\", \n",
    "      '%.4f' %cross_val_score(Ridge(alpha=0.1), x_train_scaled, y_train_scaled, cv = 10).mean())"
   ]
  },
  {
   "cell_type": "code",
   "execution_count": null,
   "metadata": {},
   "outputs": [],
   "source": [
    "linridgescaled=RidgeCV()\n",
    "# Fittinf the model on Scaled data\n",
    "linridgescaled.fit(x_train_scaled,y_train_scaled)\n",
    "print(\"The training score is : \",'%.4f' %linridgescaled.score(x_train_scaled,y_train_scaled))\n",
    "print(\"The test score is : \",'%.4f' %linridgescaled.score(x_test_scaled,y_test_scaled))\n",
    "# Number of non zero Coefficients\n",
    "print(\"Number of non zero Coef : \",np.sum(linridgescaled.coef_ != 0))\n",
    "# Number of important Coefficients\n",
    "print(\"Number of Important Coef : \",np.sum(abs(linridgescaled.coef_) > 1))"
   ]
  },
  {
   "cell_type": "markdown",
   "metadata": {},
   "source": [
    "# Lasso Regression"
   ]
  },
  {
   "cell_type": "markdown",
   "metadata": {},
   "source": [
    "Lasso Regression on Unscaled Data"
   ]
  },
  {
   "cell_type": "code",
   "execution_count": null,
   "metadata": {},
   "outputs": [],
   "source": [
    "# Defining the Lasso Model\n",
    "linlasso=Lasso()\n",
    "param={'alpha':[0.1,1,5,10,15,20,25], 'max_iter':[10,100,1000,10000]}\n",
    "gridlasso=GridSearchCV(linlasso,param_grid=param)\n",
    "# Fitting the Model on Unscaled Data\n",
    "gridlasso.fit(x_train,y_train)\n",
    "print(\"The training score is : \",'%.4f' %gridlasso.score(x_train,y_train))\n",
    "print(\"The test score is : \",'%.4f' %gridlasso.score(x_test,y_test),\" with \", gridlasso.best_params_)\n",
    "# Printing the Best parmeters and Best estimator\n",
    "print(gridlasso.best_params_)\n",
    "print(gridlasso.best_estimator_)"
   ]
  },
  {
   "cell_type": "code",
   "execution_count": null,
   "metadata": {},
   "outputs": [],
   "source": [
    "print(\"Mean Cross Validation Score of Lasso Regression on Unscaled Data :\", \n",
    "      '%.4f' %cross_val_score(Lasso(alpha=0.1, max_iter=100), x_train, y_train, cv = 10).mean())"
   ]
  },
  {
   "cell_type": "code",
   "execution_count": null,
   "metadata": {},
   "outputs": [],
   "source": [
    "# Defining the Lasso Model with build in Cross Validation\n",
    "linlasso=LassoCV()\n",
    "# Training the model\n",
    "linlasso.fit(x_train,y_train)\n",
    "print(\"The training score is : \",'%.4f' %linlasso.score(x_train,y_train))\n",
    "print(\"The test score is : \",'%.4f' %linlasso.score(x_test,y_test))\n",
    "print(\"Number of Important Coef : \",np.sum(linlasso.coef_ != 0))"
   ]
  },
  {
   "cell_type": "markdown",
   "metadata": {},
   "source": [
    "Lasso Regression on Scaled Data"
   ]
  },
  {
   "cell_type": "code",
   "execution_count": null,
   "metadata": {},
   "outputs": [],
   "source": [
    "linlassoscaled=Lasso()\n",
    "param={'alpha':[0.1,1,5,10,15,20,25], 'max_iter':[10,100,1000,10000]}\n",
    "gridlassoscaled=GridSearchCV(linlassoscaled,param_grid=param)\n",
    "# Training the model on Scaled Data\n",
    "gridlassoscaled.fit(x_train_scaled,y_train_scaled)\n",
    "print(\"The training score is : \",'%.4f' %gridlassoscaled.score(x_train_scaled,y_train_scaled))\n",
    "print(\"The test score is : \",'%.4f' %gridlassoscaled.score(x_test_scaled,y_test_scaled),\" with \", gridlassoscaled.best_params_)\n",
    "# Printing the Best parmeters and Best estimator\n",
    "print(gridlassoscaled.best_params_)\n",
    "print(gridlassoscaled.best_estimator_)"
   ]
  },
  {
   "cell_type": "code",
   "execution_count": null,
   "metadata": {},
   "outputs": [],
   "source": [
    "print(\"Mean Cross Validation Score of Lasso Regression on Scaled Data :\", \n",
    "      '%.4f' %cross_val_score(Lasso(alpha=0.1, max_iter=100), x_train_scaled, y_train_scaled, cv = 10).mean())"
   ]
  },
  {
   "cell_type": "code",
   "execution_count": null,
   "metadata": {
    "scrolled": true
   },
   "outputs": [],
   "source": [
    "linlassoscaled=LassoCV()\n",
    "# Fitting the model\n",
    "linlassoscaled.fit(x_train_scaled,y_train_scaled)\n",
    "print(\"The training score is : \",'%.4f' %linlassoscaled.score(x_train_scaled,y_train_scaled))\n",
    "print(\"The test score is : \",'%.4f' %linlassoscaled.score(x_test_scaled,y_test_scaled))\n",
    "print(\"Number of non zero Coef : \",np.sum(linlassoscaled.coef_ != 0))\n",
    "print(\"Number of Important Coef : \",np.sum(abs(linlassoscaled.coef_) > 1))"
   ]
  },
  {
   "cell_type": "markdown",
   "metadata": {},
   "source": [
    "# Polynomial Regression"
   ]
  },
  {
   "cell_type": "markdown",
   "metadata": {},
   "source": [
    "Polynomial Regression on Unscaled Data"
   ]
  },
  {
   "cell_type": "code",
   "execution_count": null,
   "metadata": {},
   "outputs": [],
   "source": [
    "# Defining a Polynomial Model with degree=2\n",
    "poly=PolynomialFeatures(degree=2)\n",
    "# Fitting the training Data with polynimial Features\n",
    "x_poly=poly.fit_transform(Xdata)'o,'p,\n",
    "x_train_poly, x_test_poly, y_train_poly, y_test_poly = train_test_split(x_poly,Ydata)\n",
    "linregpoly=LinearRegression().fit(x_train_poly,y_train_poly)\n",
    "print(\"The training score is : \",'%.4f' %linregpoly.score(x_train_poly,y_train_poly))\n",
    "print(\"The test score is : \",'%.4f' %linregpoly.score(x_test_poly,y_test_poly))"
   ]
  },
  {
   "cell_type": "code",
   "execution_count": null,
   "metadata": {},
   "outputs": [],
   "source": [
    "print(\"Mean Cross Validation Score of Polynomial Regression on Unscaled Data :\", \n",
    "      '%.4f' %cross_val_score(LinearRegression(), x_train_poly, y_train_poly, cv = 10).mean())"
   ]
  },
  {
   "cell_type": "markdown",
   "metadata": {},
   "source": [
    "Polynomial Regression on Scaled Data"
   ]
  },
  {
   "cell_type": "code",
   "execution_count": null,
   "metadata": {},
   "outputs": [],
   "source": [
    "poly=PolynomialFeatures(degree=2)\n",
    "# Fitting the polynomial Features on Scaled Data\n",
    "x_poly_scaled=poly.fit_transform(x_scaled)\n",
    "t_poly_scaled=poly.transform(t_scaled)\n",
    "x_train_poly_scaled, x_test_poly_scaled, y_train_poly_scaled, y_test_poly_scaled = train_test_split(x_poly_scaled,Ydata)\n",
    "# Training the polynomial Regression using Linear Regression\n",
    "linregpolyscaled=LinearRegression().fit(x_train_poly_scaled,y_train_poly_scaled)\n",
    "print(\"The training score is : \",'%.4f' %linregpolyscaled.score(x_train_poly_scaled,y_train_poly_scaled))\n",
    "print(\"The test score is : \",'%.4f' %linregpolyscaled.score(x_test_poly_scaled,y_test_poly_scaled))"
   ]
  },
  {
   "cell_type": "code",
   "execution_count": null,
   "metadata": {},
   "outputs": [],
   "source": [
    "print(\"Mean Cross Validation Score of Polynomial Regression on Scaled Data :\", \n",
    "      '%.4f' %cross_val_score(LinearRegression(), x_train_poly_scaled, y_train_poly_scaled, cv = 10).mean())"
   ]
  },
  {
   "cell_type": "markdown",
   "metadata": {},
   "source": [
    "# SVM"
   ]
  },
  {
   "cell_type": "markdown",
   "metadata": {},
   "source": [
    "### SVM with out Kernel"
   ]
  },
  {
   "cell_type": "code",
   "execution_count": null,
   "metadata": {},
   "outputs": [],
   "source": [
    "# Defining the Support Vector Regressor With out any Kernel and training the model\n",
    "SVreg=SVR().fit(x_train_scaled,y_train_scaled)\n",
    "print(\"The best training score is : \",'%.4f' %SVreg.score(x_train_scaled,y_train_scaled))\n",
    "print(\"The best test score is : \",'%.4f' %SVreg.score(x_test_scaled,y_test_scaled))"
   ]
  },
  {
   "cell_type": "code",
   "execution_count": null,
   "metadata": {},
   "outputs": [],
   "source": [
    "print(\"Mean Cross Validation Score of SVR on Scaled Data :\", \n",
    "      '%.4f' %cross_val_score(SVR(), x_train_scaled, y_train_scaled, cv = 10).mean())"
   ]
  },
  {
   "cell_type": "markdown",
   "metadata": {},
   "source": [
    "### SVM with Kernel"
   ]
  },
  {
   "cell_type": "code",
   "execution_count": null,
   "metadata": {},
   "outputs": [],
   "source": [
    "param={'epsilon':[0.1,0.5,1,2,5,10,15,20,25,100], 'C':[1,5,10,20,50,100,1000,10000]}\n",
    "# Defining the Support vector Regressor with Linear Kernel\n",
    "clf=SVR(kernel='linear')\n",
    "gridsvr=GridSearchCV(clf,param)\n",
    "# Training the model\n",
    "gridsvr.fit(x_train_scaled,y_train_scaled)\n",
    "print(\"The training score is : \",'%.4f' %gridsvr.score(x_train_scaled,y_train_scaled))\n",
    "print(\"The test score is : \",'%.4f' %gridsvr.score(x_test_scaled,y_test_scaled))\n",
    "# Printing the Best parmeters and Best estimator\n",
    "print(gridsvr.best_params_)\n",
    "print(gridsvr.best_estimator_)"
   ]
  },
  {
   "cell_type": "code",
   "execution_count": null,
   "metadata": {},
   "outputs": [],
   "source": [
    "print(\"Mean Cross Validation Score of Linear SVR on Scaled Data :\", \n",
    "      '%.4f' %cross_val_score(SVR(kernel='linear', epsilon=20, C=10000), x_train_scaled, y_train_scaled, cv = 10).mean())"
   ]
  },
  {
   "cell_type": "code",
   "execution_count": null,
   "metadata": {},
   "outputs": [],
   "source": [
    "param={'epsilon':[0.1,0.5,1,2,5,10,50,100,500], 'C':[1,5,10,20,50,100,1000]}\n",
    "# Defining the Support vector Regressor with RBF Kernel\n",
    "clfrbf=SVR(kernel='rbf')\n",
    "gridsvrrbf=GridSearchCV(clfrbf,param)\n",
    "# Training the model\n",
    "gridsvrrbf.fit(x_train_scaled,y_train_scaled)\n",
    "print(\"The training score is : \",'%.4f' %gridsvrrbf.score(x_train_scaled,y_train_scaled))\n",
    "print(\"The test score is : \",'%.4f' %gridsvrrbf.score(x_test_scaled,y_test_scaled))\n",
    "# Printing the Best parmeters and Best estimator\n",
    "print(gridsvrrbf.best_params_)\n",
    "print(gridsvrrbf.best_estimator_)"
   ]
  },
  {
   "cell_type": "code",
   "execution_count": null,
   "metadata": {},
   "outputs": [],
   "source": [
    "print(\"Mean Cross Validation Score of RBF SVR on Scaled Data :\", \n",
    "      '%.4f' %cross_val_score(SVR(kernel='rbf', epsilon=100, C=1000), x_train_scaled, y_train_scaled, cv = 10).mean())"
   ]
  },
  {
   "cell_type": "code",
   "execution_count": null,
   "metadata": {},
   "outputs": [],
   "source": [
    "param={'epsilon':[0.1,1,10,100,400,500], 'C':[1,5,10,20,50,100,1000,10000]}\n",
    "# Defining the Support vector Regressor with Polynomial Kernel\n",
    "clfpoly=SVR(kernel='poly')\n",
    "gridsvrpoly=GridSearchCV(clfpoly,param)\n",
    "# Training the model\n",
    "gridsvrpoly.fit(x_train_scaled,y_train_scaled)\n",
    "print(\"The training score is : \",'%.4f' %gridsvrpoly.score(x_train_scaled,y_train_scaled))\n",
    "print(\"The test score is : \",'%.4f' %gridsvrpoly.score(x_test_scaled,y_test_scaled))\n",
    "# Printing the Best parmeters and Best estimator\n",
    "print(gridsvrpoly.best_params_)\n",
    "print(gridsvrpoly.best_estimator_)"
   ]
  },
  {
   "cell_type": "code",
   "execution_count": null,
   "metadata": {},
   "outputs": [],
   "source": [
    "print(\"Mean Cross Validation Score of Polynomial SVR on Scaled Data :\", \n",
    "      '%.4f' %cross_val_score(SVR(kernel='poly', epsilon=400, C=10000), x_train_scaled, y_train_scaled, cv = 10).mean())"
   ]
  },
  {
   "cell_type": "markdown",
   "metadata": {},
   "source": [
    "# Cross Validation Scores"
   ]
  },
  {
   "cell_type": "code",
   "execution_count": null,
   "metadata": {
    "scrolled": true
   },
   "outputs": [],
   "source": [
    "print(\"Mean Cross Validation Score of KNN on Unscaled Data :\", \n",
    "      '%.4f' %cross_val_score(KNeighborsRegressor(n_neighbors=2), x_train, y_train, cv = 10).mean())\n",
    "print(\"Mean Cross Validation Score of KNN on Scaled Data :\", \n",
    "      '%.4f' %cross_val_score(KNeighborsRegressor(n_neighbors=3), x_train_scaled, y_train_scaled, cv = 10).mean())\n",
    "print(\"Mean Cross Validation Score of Linear Regression on Unscaled Data :\", \n",
    "      '%.4f' %cross_val_score(LinearRegression(), x_train, y_train, cv = 10).mean())\n",
    "print(\"Mean Cross Validation Score of Linear Regression on Scaled Data :\", \n",
    "      '%.4f' %cross_val_score(LinearRegression(), x_train_scaled, y_train_scaled, cv = 10).mean())\n",
    "print(\"Mean Cross Validation Score of Ridge Regression on Unscaled Data :\", \n",
    "      '%.4f' %cross_val_score(Ridge(alpha=25), x_train, y_train, cv = 10).mean())\n",
    "print(\"Mean Cross Validation Score of Ridge Regression on Scaled Data :\", \n",
    "      '%.4f' %cross_val_score(Ridge(alpha=0.1), x_train_scaled, y_train_scaled, cv = 10).mean())\n",
    "print(\"Mean Cross Validation Score of Lasso Regression on Unscaled Data :\", \n",
    "      '%.4f' %cross_val_score(Lasso(alpha=0.1, max_iter=100), x_train, y_train, cv = 10).mean())\n",
    "print(\"Mean Cross Validation Score of Lasso Regression on Scaled Data :\", \n",
    "      '%.4f' %cross_val_score(Lasso(alpha=0.1, max_iter=100), x_train_scaled, y_train_scaled, cv = 10).mean())\n",
    "print(\"Mean Cross Validation Score of Polynomial Regression on Unscaled Data :\", \n",
    "      '%.4f' %cross_val_score(LinearRegression(), x_train_poly, y_train_poly, cv = 10).mean())\n",
    "print(\"Mean Cross Validation Score of Polynomial Regression on Scaled Data :\", \n",
    "      '%.4f' %cross_val_score(LinearRegression(), x_train_poly_scaled, y_train_poly_scaled, cv = 10).mean())\n",
    "print(\"Mean Cross Validation Score of SVR on Scaled Data :\", \n",
    "      '%.4f' %cross_val_score(SVR(), x_train_scaled, y_train_scaled, cv = 10).mean())\n",
    "print(\"Mean Cross Validation Score of Linear SVR on Scaled Data :\", \n",
    "      '%.4f' %cross_val_score(SVR(kernel='linear', epsilon=20, C=10000), x_train_scaled, y_train_scaled, cv = 10).mean())\n",
    "print(\"Mean Cross Validation Score of RBF SVR on Scaled Data :\", \n",
    "      '%.4f' %cross_val_score(SVR(kernel='rbf', epsilon=100, C=1000), x_train_scaled, y_train_scaled, cv = 10).mean())\n",
    "print(\"Mean Cross Validation Score of Polynomial SVR on Scaled Data :\", \n",
    "      '%.4f' %cross_val_score(SVR(kernel='poly', epsilon=400, C=10000), x_train_scaled, y_train_scaled, cv = 10).mean())"
   ]
  },
  {
   "cell_type": "markdown",
   "metadata": {},
   "source": [
    "# Predicting Testing Data with Top 5 Models"
   ]
  },
  {
   "cell_type": "markdown",
   "metadata": {},
   "source": [
    "### 1. Linear Polynomial Regression"
   ]
  },
  {
   "cell_type": "code",
   "execution_count": null,
   "metadata": {},
   "outputs": [],
   "source": [
    "# Predicting the Test Data with a Model with Maximum Accuracy\n",
    "linregpolyscaled.predict(t_poly_scaled)"
   ]
  },
  {
   "cell_type": "markdown",
   "metadata": {},
   "source": [
    "### 2. Lasso Regression"
   ]
  },
  {
   "cell_type": "code",
   "execution_count": null,
   "metadata": {},
   "outputs": [],
   "source": [
    "linlassoscaled.predict(t_scaled)"
   ]
  },
  {
   "cell_type": "markdown",
   "metadata": {},
   "source": [
    "### 3. Ridge Regression"
   ]
  },
  {
   "cell_type": "code",
   "execution_count": null,
   "metadata": {},
   "outputs": [],
   "source": [
    "linridgescaled.predict(t_scaled)"
   ]
  },
  {
   "cell_type": "markdown",
   "metadata": {},
   "source": [
    "### 4. Linear Regression"
   ]
  },
  {
   "cell_type": "code",
   "execution_count": null,
   "metadata": {},
   "outputs": [],
   "source": [
    "linregscaled.predict(t_scaled)"
   ]
  },
  {
   "cell_type": "markdown",
   "metadata": {},
   "source": [
    "### 5. KNN"
   ]
  },
  {
   "cell_type": "code",
   "execution_count": null,
   "metadata": {},
   "outputs": [],
   "source": [
    "knn=KNeighborsRegressor(n_neighbors=2)\n",
    "knn=knn.fit(x_train,y_train)\n",
    "knn.predict(Tdata)"
   ]
  },
  {
   "cell_type": "markdown",
   "metadata": {},
   "source": [
    "### 6. Linear SVR"
   ]
  },
  {
   "cell_type": "code",
   "execution_count": null,
   "metadata": {},
   "outputs": [],
   "source": [
    "linsvr=SVR(kernel='linear', epsilon=20, C=10000)\n",
    "linsvr=linsvr.fit(x_train_scaled,y_train_scaled)\n",
    "linsvr.predict(t_scaled)"
   ]
  },
  {
   "cell_type": "code",
   "execution_count": null,
   "metadata": {},
   "outputs": [],
   "source": []
  }
 ],
 "metadata": {
  "kernelspec": {
   "display_name": "Python 3",
   "language": "python",
   "name": "python3"
  },
  "language_info": {
   "codemirror_mode": {
    "name": "ipython",
    "version": 3
   },
   "file_extension": ".py",
   "mimetype": "text/x-python",
   "name": "python",
   "nbconvert_exporter": "python",
   "pygments_lexer": "ipython3",
   "version": "3.7.3"
  }
 },
 "nbformat": 4,
 "nbformat_minor": 2
}
